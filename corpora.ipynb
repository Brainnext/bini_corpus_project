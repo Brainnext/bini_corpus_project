{
 "cells": [
  {
   "cell_type": "code",
   "execution_count": 2,
   "id": "e5ab1667",
   "metadata": {},
   "outputs": [
    {
     "name": "stdout",
     "output_type": "stream",
     "text": [
      "abokpoi[\"J(i)\"woof\"made\n",
      "ofwood,'usedinweaving\n",
      ";\n",
      "strikesthethreadsdowninordertofastenthem.(2)astickheldbywomenataburialorsecondburial,representingamatchet;itissupposedtokeep\n",
      "evilspiritsawayfromthedeceased'schildren.abokpo2['*.]atree,Diospyros\n",
      "crassiflora,usedinbuildinghousesandalso(bytheJskriandIjopeople)forpaddles(abokpo1isnotmadefrom\n",
      "it).\n",
      "abutete[.'..](high)edgeofaroad\n",
      ";\n",
      "v.aze[.'].\n",
      "ada[\"]state-sword,wornbytheDba,somebigchiefs,andthepriestsofOsa[..]andOxwahs\n",
      "[J.Y,of.Yor.ada[./].ada[/]family-representativesat\n",
      "aburial.ada[..]junction;crossroads.Adabi\"'[.).]adeitysupposedtostandontheboundarybetweentheworldandsfioi[.'.],onAd-agb-ad-sfim[.'.'•.]:therethedeadpeoplerestawhile.AnAdabiisalsomadeandwor-shippedbythepriestessesof\n",
      "Oloka[\"•];cfada[..].adeke[. ]femaleofosels[.](?);\n",
      "itcarriesmanyeggs;lookslike\n",
      "themaleogoro[..'],buthasshiningstripes;cfeks[.\"%].\n",
      "adese[*\n",
      "](1)middle;ades-ot-\n",
      "oye['X']{tisinthemiddle\n",
      "(ofit);ades-uhuou[.*.'.]crown\n",
      "ofhead.(2)adessn-eva\n",
      "[/J\"themiddleoftwo\":be-tween;ysl-adessn-ev-ifa(la[])\n",
      "[•*•]don'tpassbetweenthem!'(3)adessn-eva:\"intwo\";nawe1-adesen-eva\n",
      "[';jcutitintwo!\n",
      "ads['*]apointedstickforpicking\n",
      "fruitofftrees,ade['.]buyer;cfde['].\n",
      "ads[]placenta,adiys'[*/]fowl;aYorubawordmoreusedthanoxoxo[.'.]atpresent;cfYor.adie[•.•]•\n",
      "adows[.\"%.]amanwhowalkson\n",
      "tip-toeonaccountofsorefeet.\n",
      "Adolo[''\n",
      "]nameofanOba,fatherofDbaOvofaos[/..];hisaltar\n",
      "isshownonL.R.fig.84.adolobie[./*]rebirth,beingbornagain(Akugbe);cfdolo[/],bie\n",
      "[']•adoloko[*\".]sword;sabre;cfJeknudoloko['J.ana['](1)chisel;yegi-afiafia\n",
      "i3-obo[*..*..*]don'tletthechisel\n",
      "cutmy'hand!(2)aninsectaffectingtheyam-creepers;cfna['].\n",
      "afiagbe['*](Christian)blessing(Akugbe);cffi£[*]\n",
      ".\n",
      "afialaflag.\n",
      "afiama[..]pulse;afiamafiav>s\n",
      "teiteiL../\"]mYheart. is\n",
      "beating(withfear);cffia['].\n",
      "afiano(5a[\"*'.]imitationcoralbeads;originalmeaningis\"onedoesnotcutforsomebody\",butthereasonforthisnameis\n",
      "notclear,afierha[...]\"wood-cutting\":headache.aforho['\n",
      "]agameinwhichsome-\n",
      "thing,\"preferablysomethinged-\n",
      "ible,isthrownontheground,whereuponeverybodytriesto\n",
      "seizeasmuchofitashecan.afo[\"]apurificationmedicineandsoupsaidtobecomposed\n",
      "of43differentherbs;cf.io\n",
      "v.ebe[/].aga[\"]achair(withrest);ag-ika\n",
      "[\"Jcane-chair;cfYor.aga[,•]\n",
      ".\n",
      "\n"
     ]
    }
   ],
   "source": [
    "import pandas as pd\n",
    "import re\n",
    "import wordninja\n",
    "from pypdf import PdfReader\n",
    "from pathlib import Path\n",
    "\n",
    "dir_path = Path()\n",
    "bini = dir_path/\"bini_dict.pdf\"\n",
    "\n",
    "pdf = PdfReader(bini)\n",
    "pdf_19 = pdf.pages[19].extract_text()\n",
    "print(pdf_19)"
   ]
  },
  {
   "cell_type": "markdown",
   "id": "dfa6f7b4",
   "metadata": {},
   "source": [
    "the bini dictionary starts from page 18 down to page 251 for all the word and translations used to form the coropra, the latter pages may contain some other useful information that can be used in some manner to help in translations and effective corpora development "
   ]
  },
  {
   "cell_type": "code",
   "execution_count": 3,
   "id": "ed274425",
   "metadata": {},
   "outputs": [],
   "source": [
    "def read_text(start: int, file, folder):\n",
    "    \"\"\"\n",
    "    **writes all pages of the pdf into a single text file**\n",
    "    \"\"\"\n",
    "    file_path = Path(file)\n",
    "    doc = PdfReader(file_path)\n",
    "    folder_path = Path(folder)\n",
    "\n",
    "    if folder_path.exists():\n",
    "        pass\n",
    "    else:\n",
    "        folder_path.mkdir()\n",
    "\n",
    "    with open(f\"{folder_path}/raw.txt\", \"w\") as f:\n",
    "        for page in range(start, doc.get_num_pages()):\n",
    "            f.write(doc.pages[page].extract_text(extraction_mode='plain')) # chnage the extraction_mode argument to layout for different extraction, makes it harder to clean imo\n",
    "        \n",
    "    \n",
    "file = dir_path/\"bini_dict.pdf\"\n",
    "folder = dir_path/\"raw\"\n",
    "read_text(start=18, file=file, folder=folder)"
   ]
  },
  {
   "cell_type": "code",
   "execution_count": 4,
   "id": "73c9d66a",
   "metadata": {},
   "outputs": [
    {
     "name": "stdout",
     "output_type": "stream",
     "text": [
      "Cleaning done. Output saved to bini_cleaned.txt.\n"
     ]
    }
   ],
   "source": [
    "def clean_text(text):\n",
    "    # Remove special annotation symbols (e.g., [.*], [..], etc.)\n",
    "    text = re.sub(r'\\[[^\\]]*\\]', '', text)\n",
    "    # Replace line breaks within words with a space\n",
    "    text = re.sub(r'([a-zA-Z0-9])\\n([a-zA-Z0-9])', r'\\1 \\2', text)\n",
    "    # Remove extra whitespace\n",
    "    text = re.sub(r'\\s+', ' ', text)\n",
    "    # Attempt to split merged words using wordninja\n",
    "    words = []\n",
    "    for token in text.split():\n",
    "        if len(token) > 15:  # likely merged\n",
    "            words.extend(wordninja.split(token))\n",
    "        else:\n",
    "            words.append(token)\n",
    "    return ' '.join(words)\n",
    "\n",
    "def clean_bini_dictionary(raw_text):\n",
    "    # Split the text into lines\n",
    "    lines = raw_text.strip().split('\\n')\n",
    "\n",
    "    cleaned_entries = []\n",
    "    entry = \"\"\n",
    "\n",
    "    for line in lines:\n",
    "        line = line.strip()\n",
    "\n",
    "        # If a line starts with a lowercase word followed by some symbol (likely a new entry)\n",
    "        if re.match(r\"^[a-zA-Z]+\\s?[\\[\\(']\", line):\n",
    "            # Save the previous entry if exists\n",
    "            if entry:\n",
    "                cleaned_entries.append(entry.strip())\n",
    "                entry = \"\"\n",
    "\n",
    "            # Start new entry\n",
    "            parts = re.split(r'\\s*[\\[\\(].*?\\]\\s*', line, maxsplit=1)\n",
    "            if len(parts) >= 2:\n",
    "                bini_word = parts[0].strip()\n",
    "                definition = parts[1].strip()\n",
    "                entry = f\"{bini_word} – {definition}\"\n",
    "            else:\n",
    "                entry = line  # fallback if format is unexpected\n",
    "        else:\n",
    "            # Append continuation lines\n",
    "            entry += \" \" + line.strip()\n",
    "\n",
    "    # Add the last entry\n",
    "    if entry:\n",
    "        cleaned_entries.append(entry.strip())\n",
    "\n",
    "    return '\\n\\n'.join(cleaned_entries)\n",
    "\n",
    "\n",
    "# Example usage\n",
    "with open('raw/raw.txt', 'r', encoding='utf-8') as f:\n",
    "    raw_text = f.read()\n",
    "\n",
    "cleaned_text = clean_bini_dictionary(raw_text)\n",
    "\n",
    "with open('bini_cleaned.txt', 'w', encoding='utf-8') as f:\n",
    "    f.write(cleaned_text)\n",
    "\n",
    "print(\"Cleaning done. Output saved to bini_cleaned.txt.\")\n"
   ]
  },
  {
   "cell_type": "markdown",
   "id": "bd97c50b",
   "metadata": {},
   "source": [
    "#### plan A:\n",
    "- use regex to write the texts so that the bini words always start a new line\n",
    "- find the pattern for whatever comes before the bini word and whatever comes after the bini word\n",
    "- extract the bini words and store them in a df and also store the definitions in a df, \n",
    "- probably use gpt to generate a translation from the definitions of the words\n",
    "- save that as the corpus"
   ]
  },
  {
   "cell_type": "code",
   "execution_count": null,
   "id": "223f9a99",
   "metadata": {},
   "outputs": [
    {
     "data": {
      "text/plain": [
       "'\"J(i)\"woof\"made\\nofwood,\\'usedinweaving\\n;\\nstrikesthethreadsdowninordertofastenthem.(2)astickheldbywomenataburialorsecondburial,representingamatchet;itissupposedtokeep\\nevilspiritsawayfromthedeceased\\'schildren.abokpo2[\\'*.]atree,Diospyros\\ncrassiflora,usedinbuildinghousesandalso(bytheJskriandIjopeople)forpaddles(abokpo1isnotmadefrom\\nit).\\nabutete[.\\'..](high)edgeofaroad\\n;\\nv.aze[.\\'].\\nada[\"]state-sword,wornbytheDba,somebigchiefs,andthepriestsofOsa[..]andOxwahs\\n[J.Y,of.Yor.ada[./].ada[/]family-representativesat\\naburial.ada[..]junction;crossroads.Adabi\"\\'[.).]adeitysupposedtostandontheboundarybetweentheworldandsfioi[.\\'.],onAd-agb-ad-sfim[.\\'.\\'•.]:therethedeadpeoplerestawhile.AnAdabiisalsomadeandwor-shippedbythepriestessesof\\nOloka[\"•];cfada[..].adeke[. ]femaleofosels[.](?);\\nitcarriesmanyeggs;lookslike\\nthemaleogoro[..\\'],buthasshiningstripes;cfeks[.\"%].\\nadese[*\\n](1)middle;ades-ot-\\noye[\\'X\\']{tisinthemiddle\\n(ofit);ades-uhuou[.*.\\'.]crown\\nofhead.(2)adessn-eva\\n[/J\"themiddleoftwo\":be-tween;ysl-adessn-ev-ifa(la[])\\n[•*•]don\\'tpassbetweenthem!\\'(3)adessn-eva:\"intwo\";nawe1-adesen-eva\\n[\\';jcutitintwo!\\nads[\\'*]apointedstickforpicking\\nfruitofftrees,ade[\\'.]buyer;cfde[\\'].\\nads[]placenta,adiys\\'[*/]fowl;aYorubawordmoreusedthanoxoxo[.\\'.]atpresent;cfYor.adie[•.•]•\\nadows[.\"%.]amanwhowalkson\\ntip-toeonaccountofsorefeet.\\nAdolo[\\'\\'\\n]nameofanOba,fatherofDbaOvofaos[/..];hisaltar\\nisshownonL.R.fig.84.adolobie[./*]rebirth,beingbornagain(Akugbe);cfdolo[/],bie\\n[\\']•adoloko[*\".]sword;sabre;cfJeknudoloko[\\'J.ana[\\'](1)chisel;yegi-afiafia\\ni3-obo[*..*..*]don\\'tletthechisel\\ncutmy\\'hand!(2)aninsectaffectingtheyam-creepers;cfna[\\'].\\nafiagbe[\\'*](Christian)blessing(Akugbe);cffi£[*]\\n.\\nafialaflag.\\nafiama[..]pulse;afiamafiav>s\\nteiteiL../\"]mYheart. is\\nbeating(withfear);cffia[\\'].\\nafiano(5a[\"*\\'.]imitationcoralbeads;originalmeaningis\"onedoesnotcutforsomebody\",butthereasonforthisnameis\\nnotclear,afierha[...]\"wood-cutting\":headache.aforho[\\'\\n]agameinwhichsome-\\nthing,\"preferablysomethinged-\\nible,isthrownontheground,whereuponeverybodytriesto\\nseizeasmuchofitashecan.afo[\"]apurificationmedicineandsoupsaidtobecomposed\\nof43differentherbs;cf.io\\nv.ebe[/].aga[\"]achair(withrest);ag-ika\\n[\"Jcane-chair;cfYor.aga[,•]\\n.\\n'"
      ]
     },
     "execution_count": 12,
     "metadata": {},
     "output_type": "execute_result"
    }
   ],
   "source": [
    "from unstructured.cleaners.core import clean, clean_extra_whitespace\n",
    "from unstructured.cleaners.extract import extract_text_after, extract_text_before\n",
    "\n",
    "u19 = extract_text_after(pdf_19, pattern=r\"\\w+\\[\")\n",
    "\n",
    "\n",
    "u19"
   ]
  }
 ],
 "metadata": {
  "kernelspec": {
   "display_name": "3.13.0",
   "language": "python",
   "name": "python3"
  },
  "language_info": {
   "codemirror_mode": {
    "name": "ipython",
    "version": 3
   },
   "file_extension": ".py",
   "mimetype": "text/x-python",
   "name": "python",
   "nbconvert_exporter": "python",
   "pygments_lexer": "ipython3",
   "version": "3.13.0"
  }
 },
 "nbformat": 4,
 "nbformat_minor": 5
}
