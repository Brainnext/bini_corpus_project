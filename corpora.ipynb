{
 "cells": [
  {
   "cell_type": "markdown",
   "id": "fff560ce",
   "metadata": {},
   "source": [
    "**steps for solving the bini translation problem**\n",
    "\n",
    "- extract contents of pdf and store as .txt\n",
    "- read the contents of the txt and cleaned.txt\n",
    "- store cleaned.txt and convert to csv via pandas\n"
   ]
  },
  {
   "cell_type": "code",
   "execution_count": 2,
   "id": "b1e888d2",
   "metadata": {},
   "outputs": [],
   "source": [
    "import pandas as pd # manipulating data \n",
    "import wordninja\n",
    "import re\n",
    "from pathlib import Path # file and folder(dirctory) access and manipulation\n",
    "from pypdf import PdfReader # 3rd party software for reading pdf files\n",
    "from unstructured.cleaners.extract import extract_text_before, extract_text_after # 3rd party software for reading \n",
    "from unstructured.cleaners.core import clean\n",
    "\n",
    "dir = Path() # creates a variable to this particular working directory, this will allow you to create files and directories\n",
    "pdf = dir/\"bini_dict.pdf\" #creates a variable pointing to the bini pdf, this is how youll be able to access it via pypdf"
   ]
  },
  {
   "cell_type": "markdown",
   "id": "098721a1",
   "metadata": {},
   "source": [
    "\n",
    "- text = re.sub(r'^BINI DICTIONARY\\s*', '', text)\n",
    "- text = re.sub(r'\\n(?=[^a-zA-Z\\[]*[a-zA-Z])', ' ', text)\n",
    "- entries = re.split(r'\\n\\s*\\n|\\.(?=\\s*[a-zA-Z\\[])', text)"
   ]
  },
  {
   "cell_type": "code",
   "execution_count": null,
   "id": "08fd3d66",
   "metadata": {},
   "outputs": [],
   "source": [
    "\n",
    "def extract_pages(page_num):\n",
    "    \"\"\"\n",
    "    extract and store the contents of a pdf starting from a specified page\n",
    "    \"\"\"\n",
    "    bini = PdfReader(pdf)\n",
    "    pages = bini.pages\n",
    "    page_count = bini.get_num_pages()\n",
    "\n",
    "    with open(dir/\"pages.txt\", \"w\") as f:\n",
    "        for page in range(page_num, page_count):\n",
    "            words  = pages[page].extract_text()\n",
    "            words = re.sub(r\"\\n\", \"\", words)\n",
    "            f.write(words)\n",
    "\n",
    "extract_pages(18)\n",
    "\n",
    "def transform_page():\n",
    "    \"\"\"\n",
    "    clean the contents of a file and return\n",
    "    \"\"\"\n",
    "    with open(file, \"r\") as f:\n",
    "        text = f.readlines()\n",
    "\n",
    "        for x in text:\n",
    "            re.sub(\"\", \"\", x)\n",
    "            re.sub(\"\", \"\", x)\n",
    "            re.sub(\"\", \"\", x)\n",
    "    pass\n",
    "def load():\n",
    "    pass"
   ]
  },
  {
   "cell_type": "markdown",
   "id": "f1032e6e",
   "metadata": {},
   "source": [
    "patterns to remove:\n",
    "\n",
    "- BINIDICTIONARY\n",
    "- •Cambridge:printedbyr.i.severs\n",
    "- \\d\n",
    "- \\w+|\\[|\\]|\\.\n",
    "- replace r\"(\\.\\.\\.)\" with r\"\\.\""
   ]
  }
 ],
 "metadata": {
  "kernelspec": {
   "display_name": "3.13.0",
   "language": "python",
   "name": "python3"
  },
  "language_info": {
   "codemirror_mode": {
    "name": "ipython",
    "version": 3
   },
   "file_extension": ".py",
   "mimetype": "text/x-python",
   "name": "python",
   "nbconvert_exporter": "python",
   "pygments_lexer": "ipython3",
   "version": "3.13.0"
  }
 },
 "nbformat": 4,
 "nbformat_minor": 5
}
